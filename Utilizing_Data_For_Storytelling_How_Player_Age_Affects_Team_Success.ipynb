{
  "nbformat": 4,
  "nbformat_minor": 0,
  "metadata": {
    "colab": {
      "name": "Utilizing Data For Storytelling - How Player Age Affects Team Success.ipynb",
      "provenance": [],
      "collapsed_sections": [],
      "include_colab_link": true
    },
    "kernelspec": {
      "name": "python3",
      "display_name": "Python 3"
    }
  },
  "cells": [
    {
      "cell_type": "markdown",
      "metadata": {
        "id": "view-in-github",
        "colab_type": "text"
      },
      "source": [
        "<a href=\"https://colab.research.google.com/github/beccacauthorn/datastorytelling/blob/main/Utilizing_Data_For_Storytelling_How_Player_Age_Affects_Team_Success.ipynb\" target=\"_parent\"><img src=\"https://colab.research.google.com/assets/colab-badge.svg\" alt=\"Open In Colab\"/></a>"
      ]
    },
    {
      "cell_type": "code",
      "metadata": {
        "id": "VMSQ82-W9pnG"
      },
      "source": [
        "import pandas as pd\n",
        "import json\n",
        "import numpy as np\n",
        "import matplotlib.pyplot as plt \n",
        "import seaborn as sns \n",
        "players_fn = 'https://ndownloader.figshare.com/files/15073721'\n",
        "teams_fn = 'https://ndownloader.figshare.com/files/15073697'\n",
        "matches_fn = 'https://beccacauthorn.github.io/img/matches_World_Cup.json'"
      ],
      "execution_count": null,
      "outputs": []
    },
    {
      "cell_type": "code",
      "metadata": {
        "id": "CeTiMvOR83K_"
      },
      "source": [
        "players = pd.read_json(players_fn, orient='records')"
      ],
      "execution_count": null,
      "outputs": []
    },
    {
      "cell_type": "code",
      "metadata": {
        "id": "R0OZo6Q-95uV",
        "colab": {
          "base_uri": "https://localhost:8080/",
          "height": 284
        },
        "outputId": "70035b88-30b0-4028-d4ca-f614b0d3d6fe"
      },
      "source": [
        "players.dtypes"
      ],
      "execution_count": null,
      "outputs": [
        {
          "output_type": "execute_result",
          "data": {
            "text/plain": [
              "passportArea             object\n",
              "weight                    int64\n",
              "firstName                object\n",
              "middleName               object\n",
              "lastName                 object\n",
              "currentTeamId            object\n",
              "birthDate                object\n",
              "height                    int64\n",
              "role                     object\n",
              "birthArea                object\n",
              "wyId                      int64\n",
              "foot                     object\n",
              "shortName                object\n",
              "currentNationalTeamId    object\n",
              "dtype: object"
            ]
          },
          "metadata": {
            "tags": []
          },
          "execution_count": 61
        }
      ]
    },
    {
      "cell_type": "code",
      "metadata": {
        "id": "dGJO7UwQBl-D",
        "colab": {
          "base_uri": "https://localhost:8080/",
          "height": 106
        },
        "outputId": "8d4db97c-aac4-49d4-d4de-cb80e3335ae7"
      },
      "source": [
        "players[['firstName', 'lastName', 'birthDate', 'currentNationalTeamId']].isnull().sum()"
      ],
      "execution_count": null,
      "outputs": [
        {
          "output_type": "execute_result",
          "data": {
            "text/plain": [
              "firstName                0\n",
              "lastName                 0\n",
              "birthDate                0\n",
              "currentNationalTeamId    0\n",
              "dtype: int64"
            ]
          },
          "metadata": {
            "tags": []
          },
          "execution_count": 62
        }
      ]
    },
    {
      "cell_type": "code",
      "metadata": {
        "id": "tova84q1D3GZ"
      },
      "source": [
        "# Build the per-player dataframe by slicing/selecting the players dataframe\n",
        "players_new = players[['firstName', 'lastName', 'birthDate', 'currentNationalTeamId']]"
      ],
      "execution_count": null,
      "outputs": []
    },
    {
      "cell_type": "code",
      "metadata": {
        "id": "gK5juOccEFl4",
        "colab": {
          "base_uri": "https://localhost:8080/",
          "height": 35
        },
        "outputId": "7628b484-c93f-4fbd-9737-7d60243ec33e"
      },
      "source": [
        "players_new.shape"
      ],
      "execution_count": null,
      "outputs": [
        {
          "output_type": "execute_result",
          "data": {
            "text/plain": [
              "(3603, 4)"
            ]
          },
          "metadata": {
            "tags": []
          },
          "execution_count": 64
        }
      ]
    },
    {
      "cell_type": "code",
      "metadata": {
        "id": "dCWTrNCyHRgb"
      },
      "source": [
        "# matches = pd.read_json(matches_fn, orient= 'records') this gave columns with dictionaries and a lot of nesting so did not work properly\n",
        "#opening json file into a list\n",
        "\n",
        "import requests\n",
        "matches_list = requests.get(matches_fn).json()\n",
        "\n"
      ],
      "execution_count": null,
      "outputs": []
    },
    {
      "cell_type": "code",
      "metadata": {
        "id": "SkO-FftFDtiX",
        "colab": {
          "base_uri": "https://localhost:8080/",
          "height": 304
        },
        "outputId": "ecea6936-83e6-4660-e7a9-8244d420f474"
      },
      "source": [
        "#to see structure of the list\n",
        "for k,v in matches_list[0].items():\n",
        "  print(k, v)"
      ],
      "execution_count": null,
      "outputs": [
        {
          "output_type": "stream",
          "text": [
            "status Played\n",
            "roundId 4165368\n",
            "gameweek 0\n",
            "teamsData {'9598': {'scoreET': 0, 'coachId': 122788, 'side': 'away', 'teamId': 9598, 'score': 2, 'scoreP': 0, 'hasFormation': 1, 'formation': {'bench': [{'playerId': 69964, 'assists': '0', 'goals': 'null', 'ownGoals': '0', 'redCards': '0', 'yellowCards': '0'}, {'playerId': 69353, 'assists': '0', 'goals': 'null', 'ownGoals': '0', 'redCards': '0', 'yellowCards': '0'}, {'playerId': 212604, 'assists': '0', 'goals': 'null', 'ownGoals': '0', 'redCards': '0', 'yellowCards': '0'}, {'playerId': 69400, 'assists': '0', 'goals': 'null', 'ownGoals': '0', 'redCards': '0', 'yellowCards': '0'}, {'playerId': 230626, 'assists': '0', 'goals': 'null', 'ownGoals': '0', 'redCards': '0', 'yellowCards': '0'}, {'playerId': 69404, 'assists': '0', 'goals': 'null', 'ownGoals': '0', 'redCards': '0', 'yellowCards': '0'}, {'playerId': 135784, 'assists': '0', 'goals': 'null', 'ownGoals': '0', 'redCards': '0', 'yellowCards': '0'}, {'playerId': 14771, 'assists': '0', 'goals': 'null', 'ownGoals': '0', 'redCards': '0', 'yellowCards': '0'}, {'playerId': 231713, 'assists': '0', 'goals': 'null', 'ownGoals': '0', 'redCards': '0', 'yellowCards': '0'}, {'playerId': 69411, 'assists': '0', 'goals': '0', 'ownGoals': '0', 'redCards': '0', 'yellowCards': '0'}, {'playerId': 135810, 'assists': '0', 'goals': '0', 'ownGoals': '0', 'redCards': '0', 'yellowCards': '0'}], 'lineup': [{'playerId': 69616, 'assists': '0', 'goals': '0', 'ownGoals': '0', 'redCards': '0', 'yellowCards': '0'}, {'playerId': 105361, 'assists': '0', 'goals': '0', 'ownGoals': '0', 'redCards': '0', 'yellowCards': '0'}, {'playerId': 69409, 'assists': '0', 'goals': '0', 'ownGoals': '0', 'redCards': '0', 'yellowCards': '92'}, {'playerId': 25393, 'assists': '0', 'goals': 'null', 'ownGoals': '0', 'redCards': '0', 'yellowCards': '0'}, {'playerId': 135747, 'assists': '0', 'goals': 'null', 'ownGoals': '0', 'redCards': '0', 'yellowCards': '0'}, {'playerId': 14943, 'assists': '0', 'goals': '1', 'ownGoals': '1', 'redCards': '0', 'yellowCards': '0'}, {'playerId': 3476, 'assists': '0', 'goals': 'null', 'ownGoals': '0', 'redCards': '0', 'yellowCards': '0'}, {'playerId': 8287, 'assists': '0', 'goals': 'null', 'ownGoals': '0', 'redCards': '0', 'yellowCards': '0'}, {'playerId': 69396, 'assists': '1', 'goals': 'null', 'ownGoals': '0', 'redCards': '0', 'yellowCards': '0'}, {'playerId': 69968, 'assists': '0', 'goals': 'null', 'ownGoals': '0', 'redCards': '0', 'yellowCards': '0'}, {'playerId': 14812, 'assists': '0', 'goals': '1', 'ownGoals': '0', 'redCards': '0', 'yellowCards': '0'}], 'substitutions': [{'playerIn': 69411, 'assists': '0', 'playerOut': 69616, 'minute': 71}, {'playerIn': 135810, 'assists': '0', 'playerOut': 105361, 'minute': 81}]}, 'scoreHT': 1}, '4418': {'scoreET': 0, 'coachId': 25549, 'side': 'home', 'teamId': 4418, 'score': 4, 'scoreP': 0, 'hasFormation': 1, 'formation': {'bench': [{'playerId': 25418, 'assists': '0', 'goals': 'null', 'ownGoals': '0', 'redCards': '0', 'yellowCards': '0'}, {'playerId': 26196, 'assists': '0', 'goals': 'null', 'ownGoals': '0', 'redCards': '0', 'yellowCards': '0'}, {'playerId': 25552, 'assists': '0', 'goals': 'null', 'ownGoals': '0', 'redCards': '0', 'yellowCards': '0'}, {'playerId': 3276, 'assists': '0', 'goals': 'null', 'ownGoals': '0', 'redCards': '0', 'yellowCards': '0'}, {'playerId': 28922, 'assists': '0', 'goals': 'null', 'ownGoals': '0', 'redCards': '0', 'yellowCards': '0'}, {'playerId': 25770, 'assists': '0', 'goals': 'null', 'ownGoals': '0', 'redCards': '0', 'yellowCards': '0'}, {'playerId': 286390, 'assists': '0', 'goals': 'null', 'ownGoals': '0', 'redCards': '0', 'yellowCards': '0'}, {'playerId': 231138, 'assists': '0', 'goals': 'null', 'ownGoals': '0', 'redCards': '0', 'yellowCards': '0'}, {'playerId': 26136, 'assists': '0', 'goals': 'null', 'ownGoals': '0', 'redCards': '0', 'yellowCards': '0'}, {'playerId': 209091, 'assists': '0', 'goals': '0', 'ownGoals': '0', 'redCards': '0', 'yellowCards': '0'}, {'playerId': 8200, 'assists': '0', 'goals': '0', 'ownGoals': '0', 'redCards': '0', 'yellowCards': '0'}, {'playerId': 28115, 'assists': '0', 'goals': '0', 'ownGoals': '0', 'redCards': '0', 'yellowCards': '0'}], 'lineup': [{'playerId': 31528, 'assists': '0', 'goals': '0', 'ownGoals': '0', 'redCards': '0', 'yellowCards': '27'}, {'playerId': 25437, 'assists': '0', 'goals': '0', 'ownGoals': '0', 'redCards': '0', 'yellowCards': '0'}, {'playerId': 26010, 'assists': '0', 'goals': '0', 'ownGoals': '0', 'redCards': '0', 'yellowCards': '0'}, {'playerId': 3309, 'assists': '0', 'goals': 'null', 'ownGoals': '0', 'redCards': '0', 'yellowCards': '0'}, {'playerId': 7936, 'assists': '0', 'goals': '1', 'ownGoals': '0', 'redCards': '0', 'yellowCards': '0'}, {'playerId': 353833, 'assists': '0', 'goals': '1', 'ownGoals': '0', 'redCards': '0', 'yellowCards': '0'}, {'playerId': 340646, 'assists': '0', 'goals': 'null', 'ownGoals': '0', 'redCards': '0', 'yellowCards': '0'}, {'playerId': 25397, 'assists': '0', 'goals': 'null', 'ownGoals': '0', 'redCards': '0', 'yellowCards': '0'}, {'playerId': 279545, 'assists': '0', 'goals': '0', 'ownGoals': '0', 'redCards': '0', 'yellowCards': '41'}, {'playerId': 3682, 'assists': '0', 'goals': '1', 'ownGoals': '0', 'redCards': '0', 'yellowCards': '0'}, {'playerId': 25381, 'assists': '0', 'goals': 'null', 'ownGoals': '0', 'redCards': '0', 'yellowCards': '0'}], 'substitutions': [{'playerIn': 8200, 'assists': '0', 'playerOut': 31528, 'minute': 55}, {'playerIn': 209091, 'assists': '0', 'playerOut': 25437, 'minute': 73}, {'playerIn': 28115, 'assists': '0', 'playerOut': 26010, 'minute': 81}]}, 'scoreHT': 2}}\n",
            "seasonId 10078\n",
            "dateutc 2018-07-15 15:00:00\n",
            "winner 4418\n",
            "venue Olimpiyskiy stadion Luzhniki\n",
            "wyId 2058017\n",
            "label France - Croatia, 4 - 2\n",
            "date July 15, 2018 at 5:00:00 PM GMT+2\n",
            "groupName \n",
            "referees [{'refereeId': 378051, 'role': 'referee'}, {'refereeId': 378038, 'role': 'firstAssistant'}, {'refereeId': 378060, 'role': 'secondAssistant'}, {'refereeId': 377215, 'role': 'fourthOfficial'}]\n",
            "duration Regular\n",
            "competitionId 28\n"
          ],
          "name": "stdout"
        }
      ]
    },
    {
      "cell_type": "code",
      "metadata": {
        "id": "LLr4eVT6QmuU"
      },
      "source": [
        "# Use a list comprehension to iterate over the list and obtain another list\n",
        "# Get the teamId of only those teams that played in the WC\n",
        "teamIds = [list(match['teamsData'].keys()) for match in matches_list]\n",
        "teamIds_world_cup = np.unique(np.array(teamIds))"
      ],
      "execution_count": null,
      "outputs": []
    },
    {
      "cell_type": "code",
      "metadata": {
        "id": "Jff1pcBnSdsQ",
        "colab": {
          "base_uri": "https://localhost:8080/",
          "height": 200
        },
        "outputId": "4ca462ff-127f-47a1-c713-9c5784361c3d"
      },
      "source": [
        "teams_df = pd.DataFrame({'WorldCupTeamIDs': teamIds_world_cup})\n",
        "teams_df.head()"
      ],
      "execution_count": null,
      "outputs": [
        {
          "output_type": "execute_result",
          "data": {
            "text/html": [
              "<div>\n",
              "<style scoped>\n",
              "    .dataframe tbody tr th:only-of-type {\n",
              "        vertical-align: middle;\n",
              "    }\n",
              "\n",
              "    .dataframe tbody tr th {\n",
              "        vertical-align: top;\n",
              "    }\n",
              "\n",
              "    .dataframe thead th {\n",
              "        text-align: right;\n",
              "    }\n",
              "</style>\n",
              "<table border=\"1\" class=\"dataframe\">\n",
              "  <thead>\n",
              "    <tr style=\"text-align: right;\">\n",
              "      <th></th>\n",
              "      <th>WorldCupTeamIDs</th>\n",
              "    </tr>\n",
              "  </thead>\n",
              "  <tbody>\n",
              "    <tr>\n",
              "      <th>0</th>\n",
              "      <td>10840</td>\n",
              "    </tr>\n",
              "    <tr>\n",
              "      <th>1</th>\n",
              "      <td>12274</td>\n",
              "    </tr>\n",
              "    <tr>\n",
              "      <th>2</th>\n",
              "      <td>12430</td>\n",
              "    </tr>\n",
              "    <tr>\n",
              "      <th>3</th>\n",
              "      <td>12913</td>\n",
              "    </tr>\n",
              "    <tr>\n",
              "      <th>4</th>\n",
              "      <td>13869</td>\n",
              "    </tr>\n",
              "  </tbody>\n",
              "</table>\n",
              "</div>"
            ],
            "text/plain": [
              "  WorldCupTeamIDs\n",
              "0           10840\n",
              "1           12274\n",
              "2           12430\n",
              "3           12913\n",
              "4           13869"
            ]
          },
          "metadata": {
            "tags": []
          },
          "execution_count": 68
        }
      ]
    },
    {
      "cell_type": "code",
      "metadata": {
        "id": "YLsAs6Tob91X",
        "colab": {
          "base_uri": "https://localhost:8080/",
          "height": 124
        },
        "outputId": "49cbc69d-d785-41d5-86c3-91c00952964a"
      },
      "source": [
        "# step 2. get the players corresponding to World Cup teams\n",
        "players_new['currentNationalTeamIdStr'] = players_new.currentNationalTeamId.astype(str)"
      ],
      "execution_count": null,
      "outputs": [
        {
          "output_type": "stream",
          "text": [
            "/usr/local/lib/python3.6/dist-packages/ipykernel_launcher.py:1: SettingWithCopyWarning: \n",
            "A value is trying to be set on a copy of a slice from a DataFrame.\n",
            "Try using .loc[row_indexer,col_indexer] = value instead\n",
            "\n",
            "See the caveats in the documentation: http://pandas.pydata.org/pandas-docs/stable/user_guide/indexing.html#returning-a-view-versus-a-copy\n",
            "  \"\"\"Entry point for launching an IPython kernel.\n"
          ],
          "name": "stderr"
        }
      ]
    },
    {
      "cell_type": "code",
      "metadata": {
        "id": "4D3M8TJucIYE",
        "colab": {
          "base_uri": "https://localhost:8080/",
          "height": 35
        },
        "outputId": "4887317f-b015-4306-b414-fd9dce1ab928"
      },
      "source": [
        "players_new.shape"
      ],
      "execution_count": null,
      "outputs": [
        {
          "output_type": "execute_result",
          "data": {
            "text/plain": [
              "(3603, 5)"
            ]
          },
          "metadata": {
            "tags": []
          },
          "execution_count": 70
        }
      ]
    },
    {
      "cell_type": "code",
      "metadata": {
        "id": "cc9klkY1TxNw",
        "colab": {
          "base_uri": "https://localhost:8080/",
          "height": 35
        },
        "outputId": "f46ec31a-baa9-4386-8fb9-568df8b65f2d"
      },
      "source": [
        "#Group the player dataframe by teamId \n",
        "players_teams_merged = pd.merge(players_new, teams_df, left_on='currentNationalTeamIdStr', right_on= 'WorldCupTeamIDs', how='inner')\n",
        "players_teams_merged.shape"
      ],
      "execution_count": null,
      "outputs": [
        {
          "output_type": "execute_result",
          "data": {
            "text/plain": [
              "(744, 6)"
            ]
          },
          "metadata": {
            "tags": []
          },
          "execution_count": 71
        }
      ]
    },
    {
      "cell_type": "code",
      "metadata": {
        "id": "7ebF44BbehVK"
      },
      "source": [
        "player_age = (pd.Timestamp('2018-06-14') - pd.to_datetime(players_teams_merged['birthDate'])) / np.timedelta64(1, 'Y')"
      ],
      "execution_count": null,
      "outputs": []
    },
    {
      "cell_type": "code",
      "metadata": {
        "id": "h_3EtulZhImt"
      },
      "source": [
        "players_teams_merged['player_age'] = player_age"
      ],
      "execution_count": null,
      "outputs": []
    },
    {
      "cell_type": "code",
      "metadata": {
        "id": "mG4frKfrh_i1",
        "colab": {
          "base_uri": "https://localhost:8080/",
          "height": 200
        },
        "outputId": "32a53ce0-d4e2-4fb3-be17-952cf9c99d4e"
      },
      "source": [
        "players_teams_merged.head()"
      ],
      "execution_count": null,
      "outputs": [
        {
          "output_type": "execute_result",
          "data": {
            "text/html": [
              "<div>\n",
              "<style scoped>\n",
              "    .dataframe tbody tr th:only-of-type {\n",
              "        vertical-align: middle;\n",
              "    }\n",
              "\n",
              "    .dataframe tbody tr th {\n",
              "        vertical-align: top;\n",
              "    }\n",
              "\n",
              "    .dataframe thead th {\n",
              "        text-align: right;\n",
              "    }\n",
              "</style>\n",
              "<table border=\"1\" class=\"dataframe\">\n",
              "  <thead>\n",
              "    <tr style=\"text-align: right;\">\n",
              "      <th></th>\n",
              "      <th>firstName</th>\n",
              "      <th>lastName</th>\n",
              "      <th>birthDate</th>\n",
              "      <th>currentNationalTeamId</th>\n",
              "      <th>currentNationalTeamIdStr</th>\n",
              "      <th>WorldCupTeamIDs</th>\n",
              "      <th>player_age</th>\n",
              "    </tr>\n",
              "  </thead>\n",
              "  <tbody>\n",
              "    <tr>\n",
              "      <th>0</th>\n",
              "      <td>Alfred John Momar</td>\n",
              "      <td>N'Diaye</td>\n",
              "      <td>1990-03-06</td>\n",
              "      <td>19314</td>\n",
              "      <td>19314</td>\n",
              "      <td>19314</td>\n",
              "      <td>28.274366</td>\n",
              "    </tr>\n",
              "    <tr>\n",
              "      <th>1</th>\n",
              "      <td>Cheikhou</td>\n",
              "      <td>Kouyat\\u00e9</td>\n",
              "      <td>1989-12-21</td>\n",
              "      <td>19314</td>\n",
              "      <td>19314</td>\n",
              "      <td>19314</td>\n",
              "      <td>28.479709</td>\n",
              "    </tr>\n",
              "    <tr>\n",
              "      <th>2</th>\n",
              "      <td>Papa Alioune</td>\n",
              "      <td>N'Diaye</td>\n",
              "      <td>1990-10-27</td>\n",
              "      <td>19314</td>\n",
              "      <td>19314</td>\n",
              "      <td>19314</td>\n",
              "      <td>27.630958</td>\n",
              "    </tr>\n",
              "    <tr>\n",
              "      <th>3</th>\n",
              "      <td>Mame Biram</td>\n",
              "      <td>Diouf</td>\n",
              "      <td>1987-12-16</td>\n",
              "      <td>19314</td>\n",
              "      <td>19314</td>\n",
              "      <td>19314</td>\n",
              "      <td>30.494808</td>\n",
              "    </tr>\n",
              "    <tr>\n",
              "      <th>4</th>\n",
              "      <td>Adama</td>\n",
              "      <td>Mbengue</td>\n",
              "      <td>1993-12-01</td>\n",
              "      <td>19314</td>\n",
              "      <td>19314</td>\n",
              "      <td>19314</td>\n",
              "      <td>24.534385</td>\n",
              "    </tr>\n",
              "  </tbody>\n",
              "</table>\n",
              "</div>"
            ],
            "text/plain": [
              "           firstName      lastName  ... WorldCupTeamIDs player_age\n",
              "0  Alfred John Momar       N'Diaye  ...           19314  28.274366\n",
              "1           Cheikhou  Kouyat\\u00e9  ...           19314  28.479709\n",
              "2       Papa Alioune       N'Diaye  ...           19314  27.630958\n",
              "3         Mame Biram         Diouf  ...           19314  30.494808\n",
              "4              Adama       Mbengue  ...           19314  24.534385\n",
              "\n",
              "[5 rows x 7 columns]"
            ]
          },
          "metadata": {
            "tags": []
          },
          "execution_count": 75
        }
      ]
    },
    {
      "cell_type": "code",
      "metadata": {
        "id": "3mTBVQ8hcW7U"
      },
      "source": [
        "# groupby currentNationalTeamId and take average age\n",
        "team_age_mean = players_teams_merged.groupby(by='WorldCupTeamIDs')[['player_age']].mean()\n",
        "team_age_mean.player_age = pd.to_numeric(team_age_mean.player_age)"
      ],
      "execution_count": null,
      "outputs": []
    },
    {
      "cell_type": "code",
      "metadata": {
        "id": "nDZu7YrBjYY0",
        "colab": {
          "base_uri": "https://localhost:8080/",
          "height": 230
        },
        "outputId": "82955a30-1bb5-4821-a206-e73773579e6a"
      },
      "source": [
        "team_age_mean.head()"
      ],
      "execution_count": null,
      "outputs": [
        {
          "output_type": "execute_result",
          "data": {
            "text/html": [
              "<div>\n",
              "<style scoped>\n",
              "    .dataframe tbody tr th:only-of-type {\n",
              "        vertical-align: middle;\n",
              "    }\n",
              "\n",
              "    .dataframe tbody tr th {\n",
              "        vertical-align: top;\n",
              "    }\n",
              "\n",
              "    .dataframe thead th {\n",
              "        text-align: right;\n",
              "    }\n",
              "</style>\n",
              "<table border=\"1\" class=\"dataframe\">\n",
              "  <thead>\n",
              "    <tr style=\"text-align: right;\">\n",
              "      <th></th>\n",
              "      <th>player_age</th>\n",
              "    </tr>\n",
              "    <tr>\n",
              "      <th>WorldCupTeamIDs</th>\n",
              "      <th></th>\n",
              "    </tr>\n",
              "  </thead>\n",
              "  <tbody>\n",
              "    <tr>\n",
              "      <th>10840</th>\n",
              "      <td>27.231461</td>\n",
              "    </tr>\n",
              "    <tr>\n",
              "      <th>12274</th>\n",
              "      <td>28.826814</td>\n",
              "    </tr>\n",
              "    <tr>\n",
              "      <th>12430</th>\n",
              "      <td>27.960738</td>\n",
              "    </tr>\n",
              "    <tr>\n",
              "      <th>12913</th>\n",
              "      <td>28.594939</td>\n",
              "    </tr>\n",
              "    <tr>\n",
              "      <th>13869</th>\n",
              "      <td>28.110091</td>\n",
              "    </tr>\n",
              "  </tbody>\n",
              "</table>\n",
              "</div>"
            ],
            "text/plain": [
              "                 player_age\n",
              "WorldCupTeamIDs            \n",
              "10840             27.231461\n",
              "12274             28.826814\n",
              "12430             27.960738\n",
              "12913             28.594939\n",
              "13869             28.110091"
            ]
          },
          "metadata": {
            "tags": []
          },
          "execution_count": 77
        }
      ]
    },
    {
      "cell_type": "code",
      "metadata": {
        "id": "MwnwZ8S8jtv0",
        "colab": {
          "base_uri": "https://localhost:8080/",
          "height": 295
        },
        "outputId": "f657187d-b3b0-41f9-b4bd-38b137a4b530"
      },
      "source": [
        "team_age_mean.player_age.plot.kde(bw_method=0.25)\n",
        "plt.title('2018 World Cup Teams');\n",
        "plt.xlabel('Average Player Age');"
      ],
      "execution_count": null,
      "outputs": [
        {
          "output_type": "display_data",
          "data": {
            "image/png": "[encoded data removed]",
            "text/plain": [
              "<Figure size 432x288 with 1 Axes>"
            ]
          },
          "metadata": {
            "tags": []
          }
        }
      ]
    },
    {
      "cell_type": "code",
      "metadata": {
        "id": "8AG9kZj-DmLp"
      },
      "source": [
        "winner_list = [str(match['winner']) for match in matches_list]"
      ],
      "execution_count": null,
      "outputs": []
    },
    {
      "cell_type": "code",
      "metadata": {
        "id": "A2Qfyda2ot0G"
      },
      "source": [
        "winner_df = pd.DataFrame({'WorldCupTeamIDs': winner_list})"
      ],
      "execution_count": null,
      "outputs": []
    },
    {
      "cell_type": "code",
      "metadata": {
        "id": "F3cyImr6ppPL"
      },
      "source": [
        "wins = winner_df.groupby('WorldCupTeamIDs')['WorldCupTeamIDs'].count()"
      ],
      "execution_count": null,
      "outputs": []
    },
    {
      "cell_type": "code",
      "metadata": {
        "id": "3ZMBtDUhtHqX",
        "colab": {
          "base_uri": "https://localhost:8080/",
          "height": 35
        },
        "outputId": "000c0494-2234-4cdd-bd2c-3e4aa32437ed"
      },
      "source": [
        "wins.shape"
      ],
      "execution_count": null,
      "outputs": [
        {
          "output_type": "execute_result",
          "data": {
            "text/plain": [
              "(27,)"
            ]
          },
          "metadata": {
            "tags": []
          },
          "execution_count": 82
        }
      ]
    },
    {
      "cell_type": "code",
      "metadata": {
        "id": "HeaV-RLovCq7"
      },
      "source": [
        "#assigning new column to team_age_mean dataframe\n",
        "team_age_mean['wins'] = wins"
      ],
      "execution_count": null,
      "outputs": []
    },
    {
      "cell_type": "code",
      "metadata": {
        "id": "ZH46PvxmvEz-",
        "colab": {
          "base_uri": "https://localhost:8080/",
          "height": 70
        },
        "outputId": "4fc63877-4482-4f01-b2bb-879e761d91ce"
      },
      "source": [
        "team_age_mean.isnull().sum()"
      ],
      "execution_count": null,
      "outputs": [
        {
          "output_type": "execute_result",
          "data": {
            "text/plain": [
              "player_age    0\n",
              "wins          6\n",
              "dtype: int64"
            ]
          },
          "metadata": {
            "tags": []
          },
          "execution_count": 84
        }
      ]
    },
    {
      "cell_type": "code",
      "metadata": {
        "id": "VpXql7r-wNeU"
      },
      "source": [
        "team_age_mean['wins'] = team_age_mean['wins'].fillna(0)"
      ],
      "execution_count": null,
      "outputs": []
    },
    {
      "cell_type": "code",
      "metadata": {
        "id": "I2p3Cf822hYe",
        "colab": {
          "base_uri": "https://localhost:8080/",
          "height": 70
        },
        "outputId": "bd2b2cf7-c43f-427c-8dbb-dfe1e17aaefc"
      },
      "source": [
        "team_age_mean.isnull().sum()"
      ],
      "execution_count": null,
      "outputs": [
        {
          "output_type": "execute_result",
          "data": {
            "text/plain": [
              "player_age    0\n",
              "wins          0\n",
              "dtype: int64"
            ]
          },
          "metadata": {
            "tags": []
          },
          "execution_count": 86
        }
      ]
    },
    {
      "cell_type": "code",
      "metadata": {
        "id": "sq0O4Fsy57V3",
        "colab": {
          "base_uri": "https://localhost:8080/",
          "height": 298
        },
        "outputId": "0f2b8bd2-48de-4e85-9c8b-9f636d935d6e"
      },
      "source": [
        "team_age_mean.plot(x ='player_age', y='wins', kind='scatter')\n"
      ],
      "execution_count": null,
      "outputs": [
        {
          "output_type": "execute_result",
          "data": {
            "text/plain": [
              "<matplotlib.axes._subplots.AxesSubplot at 0x7f4cf9cea358>"
            ]
          },
          "metadata": {
            "tags": []
          },
          "execution_count": 87
        },
        {
          "output_type": "display_data",
          "data": {
            "image/png": "[encoded data removed]",
            "text/plain": [
              "<Figure size 432x288 with 1 Axes>"
            ]
          },
          "metadata": {
            "tags": []
          }
        }
      ]
    },
    {
      "cell_type": "code",
      "metadata": {
        "id": "q35SNX1gbZy_",
        "colab": {
          "base_uri": "https://localhost:8080/",
          "height": 384
        },
        "outputId": "e0f4daaf-af4a-4ca8-818d-d5e19537104f"
      },
      "source": [
        "sns.lmplot('player_age', 'wins', data=team_age_mean,fit_reg=True);\n",
        "plt.title('2018 World Cup Teams');\n",
        "plt.xlabel('Average Player Age');\n",
        "plt.ylabel('Number of Wins');\n"
      ],
      "execution_count": null,
      "outputs": [
        {
          "output_type": "display_data",
          "data": {
            "image/png": "[encoded data removed]",
            "text/plain": [
              "<Figure size 360x360 with 1 Axes>"
            ]
          },
          "metadata": {
            "tags": []
          }
        }
      ]
    },
    {
      "cell_type": "code",
      "metadata": {
        "id": "P0HnD5lA9bpp"
      },
      "source": [
        "#reducing survivor bias due to competition being a knockout competition, running same code on league competition in England due \n",
        "#to all teams playing the same number of matches "
      ],
      "execution_count": null,
      "outputs": []
    },
    {
      "cell_type": "code",
      "metadata": {
        "id": "rSTNTm3uu2Or"
      },
      "source": [
        "teams = pd.read_json(teams_fn, orient='records')"
      ],
      "execution_count": null,
      "outputs": []
    },
    {
      "cell_type": "code",
      "metadata": {
        "id": "1zMc8PsMu5xb",
        "colab": {
          "base_uri": "https://localhost:8080/",
          "height": 200
        },
        "outputId": "3972a4f0-4f4f-4cc2-9f98-6453b0690a5a"
      },
      "source": [
        "teams.head()"
      ],
      "execution_count": null,
      "outputs": [
        {
          "output_type": "execute_result",
          "data": {
            "text/html": [
              "<div>\n",
              "<style scoped>\n",
              "    .dataframe tbody tr th:only-of-type {\n",
              "        vertical-align: middle;\n",
              "    }\n",
              "\n",
              "    .dataframe tbody tr th {\n",
              "        vertical-align: top;\n",
              "    }\n",
              "\n",
              "    .dataframe thead th {\n",
              "        text-align: right;\n",
              "    }\n",
              "</style>\n",
              "<table border=\"1\" class=\"dataframe\">\n",
              "  <thead>\n",
              "    <tr style=\"text-align: right;\">\n",
              "      <th></th>\n",
              "      <th>city</th>\n",
              "      <th>name</th>\n",
              "      <th>wyId</th>\n",
              "      <th>officialName</th>\n",
              "      <th>area</th>\n",
              "      <th>type</th>\n",
              "    </tr>\n",
              "  </thead>\n",
              "  <tbody>\n",
              "    <tr>\n",
              "      <th>0</th>\n",
              "      <td>Newcastle upon Tyne</td>\n",
              "      <td>Newcastle United</td>\n",
              "      <td>1613</td>\n",
              "      <td>Newcastle United FC</td>\n",
              "      <td>{'name': 'England', 'id': '0', 'alpha3code': '...</td>\n",
              "      <td>club</td>\n",
              "    </tr>\n",
              "    <tr>\n",
              "      <th>1</th>\n",
              "      <td>Vigo</td>\n",
              "      <td>Celta de Vigo</td>\n",
              "      <td>692</td>\n",
              "      <td>Real Club Celta de Vigo</td>\n",
              "      <td>{'name': 'Spain', 'id': '724', 'alpha3code': '...</td>\n",
              "      <td>club</td>\n",
              "    </tr>\n",
              "    <tr>\n",
              "      <th>2</th>\n",
              "      <td>Barcelona</td>\n",
              "      <td>Espanyol</td>\n",
              "      <td>691</td>\n",
              "      <td>Reial Club Deportiu Espanyol</td>\n",
              "      <td>{'name': 'Spain', 'id': '724', 'alpha3code': '...</td>\n",
              "      <td>club</td>\n",
              "    </tr>\n",
              "    <tr>\n",
              "      <th>3</th>\n",
              "      <td>Vitoria-Gasteiz</td>\n",
              "      <td>Deportivo Alav\\u00e9s</td>\n",
              "      <td>696</td>\n",
              "      <td>Deportivo Alav\\u00e9s</td>\n",
              "      <td>{'name': 'Spain', 'id': '724', 'alpha3code': '...</td>\n",
              "      <td>club</td>\n",
              "    </tr>\n",
              "    <tr>\n",
              "      <th>4</th>\n",
              "      <td>Valencia</td>\n",
              "      <td>Levante</td>\n",
              "      <td>695</td>\n",
              "      <td>Levante UD</td>\n",
              "      <td>{'name': 'Spain', 'id': '724', 'alpha3code': '...</td>\n",
              "      <td>club</td>\n",
              "    </tr>\n",
              "  </tbody>\n",
              "</table>\n",
              "</div>"
            ],
            "text/plain": [
              "                  city  ...  type\n",
              "0  Newcastle upon Tyne  ...  club\n",
              "1                 Vigo  ...  club\n",
              "2            Barcelona  ...  club\n",
              "3      Vitoria-Gasteiz  ...  club\n",
              "4             Valencia  ...  club\n",
              "\n",
              "[5 rows x 6 columns]"
            ]
          },
          "metadata": {
            "tags": []
          },
          "execution_count": 91
        }
      ]
    },
    {
      "cell_type": "code",
      "metadata": {
        "id": "Nr5f4GVQvHi8",
        "colab": {
          "base_uri": "https://localhost:8080/",
          "height": 35
        },
        "outputId": "5254463e-7d4c-4e34-c13a-5a7935d04ba2"
      },
      "source": [
        "teams.loc[0]['area']"
      ],
      "execution_count": null,
      "outputs": [
        {
          "output_type": "execute_result",
          "data": {
            "text/plain": [
              "{'alpha2code': '', 'alpha3code': 'XEN', 'id': '0', 'name': 'England'}"
            ]
          },
          "metadata": {
            "tags": []
          },
          "execution_count": 92
        }
      ]
    },
    {
      "cell_type": "code",
      "metadata": {
        "id": "2T8BrUdpvlKp"
      },
      "source": [
        "# given one of the dictionaries in the area column, say area_dict, we want to extract\n",
        "# area_dict['name']\n",
        "# and we want to do that for each row\n",
        "# So we want to apply the following function to each value in the area column:\n",
        "def my_function(area_dict):\n",
        "  return area_dict['name']\n",
        "\n",
        "teams['country'] = teams['area'].apply(my_function)"
      ],
      "execution_count": null,
      "outputs": []
    },
    {
      "cell_type": "code",
      "metadata": {
        "id": "qLQiE2Oiw9DD",
        "colab": {
          "base_uri": "https://localhost:8080/",
          "height": 200
        },
        "outputId": "a24d92bf-a723-4ff4-8268-5677b8586ed1"
      },
      "source": [
        "teams.head()"
      ],
      "execution_count": null,
      "outputs": [
        {
          "output_type": "execute_result",
          "data": {
            "text/html": [
              "<div>\n",
              "<style scoped>\n",
              "    .dataframe tbody tr th:only-of-type {\n",
              "        vertical-align: middle;\n",
              "    }\n",
              "\n",
              "    .dataframe tbody tr th {\n",
              "        vertical-align: top;\n",
              "    }\n",
              "\n",
              "    .dataframe thead th {\n",
              "        text-align: right;\n",
              "    }\n",
              "</style>\n",
              "<table border=\"1\" class=\"dataframe\">\n",
              "  <thead>\n",
              "    <tr style=\"text-align: right;\">\n",
              "      <th></th>\n",
              "      <th>city</th>\n",
              "      <th>name</th>\n",
              "      <th>wyId</th>\n",
              "      <th>officialName</th>\n",
              "      <th>area</th>\n",
              "      <th>type</th>\n",
              "      <th>country</th>\n",
              "    </tr>\n",
              "  </thead>\n",
              "  <tbody>\n",
              "    <tr>\n",
              "      <th>0</th>\n",
              "      <td>Newcastle upon Tyne</td>\n",
              "      <td>Newcastle United</td>\n",
              "      <td>1613</td>\n",
              "      <td>Newcastle United FC</td>\n",
              "      <td>{'name': 'England', 'id': '0', 'alpha3code': '...</td>\n",
              "      <td>club</td>\n",
              "      <td>England</td>\n",
              "    </tr>\n",
              "    <tr>\n",
              "      <th>1</th>\n",
              "      <td>Vigo</td>\n",
              "      <td>Celta de Vigo</td>\n",
              "      <td>692</td>\n",
              "      <td>Real Club Celta de Vigo</td>\n",
              "      <td>{'name': 'Spain', 'id': '724', 'alpha3code': '...</td>\n",
              "      <td>club</td>\n",
              "      <td>Spain</td>\n",
              "    </tr>\n",
              "    <tr>\n",
              "      <th>2</th>\n",
              "      <td>Barcelona</td>\n",
              "      <td>Espanyol</td>\n",
              "      <td>691</td>\n",
              "      <td>Reial Club Deportiu Espanyol</td>\n",
              "      <td>{'name': 'Spain', 'id': '724', 'alpha3code': '...</td>\n",
              "      <td>club</td>\n",
              "      <td>Spain</td>\n",
              "    </tr>\n",
              "    <tr>\n",
              "      <th>3</th>\n",
              "      <td>Vitoria-Gasteiz</td>\n",
              "      <td>Deportivo Alav\\u00e9s</td>\n",
              "      <td>696</td>\n",
              "      <td>Deportivo Alav\\u00e9s</td>\n",
              "      <td>{'name': 'Spain', 'id': '724', 'alpha3code': '...</td>\n",
              "      <td>club</td>\n",
              "      <td>Spain</td>\n",
              "    </tr>\n",
              "    <tr>\n",
              "      <th>4</th>\n",
              "      <td>Valencia</td>\n",
              "      <td>Levante</td>\n",
              "      <td>695</td>\n",
              "      <td>Levante UD</td>\n",
              "      <td>{'name': 'Spain', 'id': '724', 'alpha3code': '...</td>\n",
              "      <td>club</td>\n",
              "      <td>Spain</td>\n",
              "    </tr>\n",
              "  </tbody>\n",
              "</table>\n",
              "</div>"
            ],
            "text/plain": [
              "                  city                   name  ...  type  country\n",
              "0  Newcastle upon Tyne       Newcastle United  ...  club  England\n",
              "1                 Vigo          Celta de Vigo  ...  club    Spain\n",
              "2            Barcelona               Espanyol  ...  club    Spain\n",
              "3      Vitoria-Gasteiz  Deportivo Alav\\u00e9s  ...  club    Spain\n",
              "4             Valencia                Levante  ...  club    Spain\n",
              "\n",
              "[5 rows x 7 columns]"
            ]
          },
          "metadata": {
            "tags": []
          },
          "execution_count": 94
        }
      ]
    },
    {
      "cell_type": "code",
      "metadata": {
        "id": "5V_qZVB2xZz7",
        "colab": {
          "base_uri": "https://localhost:8080/",
          "height": 655
        },
        "outputId": "ae25e15f-c599-44e4-e454-b7e16dd73e60"
      },
      "source": [
        "teams_england = teams[teams['country']=='England']\n",
        "teams_england.head(20)"
      ],
      "execution_count": null,
      "outputs": [
        {
          "output_type": "execute_result",
          "data": {
            "text/html": [
              "<div>\n",
              "<style scoped>\n",
              "    .dataframe tbody tr th:only-of-type {\n",
              "        vertical-align: middle;\n",
              "    }\n",
              "\n",
              "    .dataframe tbody tr th {\n",
              "        vertical-align: top;\n",
              "    }\n",
              "\n",
              "    .dataframe thead th {\n",
              "        text-align: right;\n",
              "    }\n",
              "</style>\n",
              "<table border=\"1\" class=\"dataframe\">\n",
              "  <thead>\n",
              "    <tr style=\"text-align: right;\">\n",
              "      <th></th>\n",
              "      <th>city</th>\n",
              "      <th>name</th>\n",
              "      <th>wyId</th>\n",
              "      <th>officialName</th>\n",
              "      <th>area</th>\n",
              "      <th>type</th>\n",
              "      <th>country</th>\n",
              "    </tr>\n",
              "  </thead>\n",
              "  <tbody>\n",
              "    <tr>\n",
              "      <th>0</th>\n",
              "      <td>Newcastle upon Tyne</td>\n",
              "      <td>Newcastle United</td>\n",
              "      <td>1613</td>\n",
              "      <td>Newcastle United FC</td>\n",
              "      <td>{'name': 'England', 'id': '0', 'alpha3code': '...</td>\n",
              "      <td>club</td>\n",
              "      <td>England</td>\n",
              "    </tr>\n",
              "    <tr>\n",
              "      <th>8</th>\n",
              "      <td>Huddersfield, West Yorkshire</td>\n",
              "      <td>Huddersfield Town</td>\n",
              "      <td>1673</td>\n",
              "      <td>Huddersfield Town FC</td>\n",
              "      <td>{'name': 'England', 'id': '0', 'alpha3code': '...</td>\n",
              "      <td>club</td>\n",
              "      <td>England</td>\n",
              "    </tr>\n",
              "    <tr>\n",
              "      <th>26</th>\n",
              "      <td>Bournemouth, Dorset</td>\n",
              "      <td>AFC Bournemouth</td>\n",
              "      <td>1659</td>\n",
              "      <td>AFC Bournemouth</td>\n",
              "      <td>{'name': 'England', 'id': '0', 'alpha3code': '...</td>\n",
              "      <td>club</td>\n",
              "      <td>England</td>\n",
              "    </tr>\n",
              "    <tr>\n",
              "      <th>27</th>\n",
              "      <td>Brighton, East Sussex</td>\n",
              "      <td>Brighton &amp; Hove Albion</td>\n",
              "      <td>1651</td>\n",
              "      <td>Brighton &amp; Hove Albion FC</td>\n",
              "      <td>{'name': 'England', 'id': '0', 'alpha3code': '...</td>\n",
              "      <td>club</td>\n",
              "      <td>England</td>\n",
              "    </tr>\n",
              "    <tr>\n",
              "      <th>39</th>\n",
              "      <td>Burnley, Lancashire</td>\n",
              "      <td>Burnley</td>\n",
              "      <td>1646</td>\n",
              "      <td>Burnley FC</td>\n",
              "      <td>{'name': 'England', 'id': '0', 'alpha3code': '...</td>\n",
              "      <td>club</td>\n",
              "      <td>England</td>\n",
              "    </tr>\n",
              "    <tr>\n",
              "      <th>54</th>\n",
              "      <td>Leicester</td>\n",
              "      <td>Leicester City</td>\n",
              "      <td>1631</td>\n",
              "      <td>Leicester City FC</td>\n",
              "      <td>{'name': 'England', 'id': '0', 'alpha3code': '...</td>\n",
              "      <td>club</td>\n",
              "      <td>England</td>\n",
              "    </tr>\n",
              "    <tr>\n",
              "      <th>55</th>\n",
              "      <td>London</td>\n",
              "      <td>West Ham United</td>\n",
              "      <td>1633</td>\n",
              "      <td>West Ham United FC</td>\n",
              "      <td>{'name': 'England', 'id': '0', 'alpha3code': '...</td>\n",
              "      <td>club</td>\n",
              "      <td>England</td>\n",
              "    </tr>\n",
              "    <tr>\n",
              "      <th>56</th>\n",
              "      <td>Stoke-on-Trent</td>\n",
              "      <td>Stoke City</td>\n",
              "      <td>1639</td>\n",
              "      <td>Stoke City FC</td>\n",
              "      <td>{'name': 'England', 'id': '0', 'alpha3code': '...</td>\n",
              "      <td>club</td>\n",
              "      <td>England</td>\n",
              "    </tr>\n",
              "    <tr>\n",
              "      <th>60</th>\n",
              "      <td>Watford</td>\n",
              "      <td>Watford</td>\n",
              "      <td>1644</td>\n",
              "      <td>Watford FC</td>\n",
              "      <td>{'name': 'England', 'id': '0', 'alpha3code': '...</td>\n",
              "      <td>club</td>\n",
              "      <td>England</td>\n",
              "    </tr>\n",
              "    <tr>\n",
              "      <th>65</th>\n",
              "      <td>Liverpool</td>\n",
              "      <td>Everton</td>\n",
              "      <td>1623</td>\n",
              "      <td>Everton FC</td>\n",
              "      <td>{'name': 'England', 'id': '0', 'alpha3code': '...</td>\n",
              "      <td>club</td>\n",
              "      <td>England</td>\n",
              "    </tr>\n",
              "    <tr>\n",
              "      <th>66</th>\n",
              "      <td>West Bromwich</td>\n",
              "      <td>West Bromwich Albion</td>\n",
              "      <td>1627</td>\n",
              "      <td>West Bromwich Albion FC</td>\n",
              "      <td>{'name': 'England', 'id': '0', 'alpha3code': '...</td>\n",
              "      <td>club</td>\n",
              "      <td>England</td>\n",
              "    </tr>\n",
              "    <tr>\n",
              "      <th>67</th>\n",
              "      <td>Manchester</td>\n",
              "      <td>Manchester City</td>\n",
              "      <td>1625</td>\n",
              "      <td>Manchester City FC</td>\n",
              "      <td>{'name': 'England', 'id': '0', 'alpha3code': '...</td>\n",
              "      <td>club</td>\n",
              "      <td>England</td>\n",
              "    </tr>\n",
              "    <tr>\n",
              "      <th>68</th>\n",
              "      <td>London</td>\n",
              "      <td>Tottenham Hotspur</td>\n",
              "      <td>1624</td>\n",
              "      <td>Tottenham Hotspur FC</td>\n",
              "      <td>{'name': 'England', 'id': '0', 'alpha3code': '...</td>\n",
              "      <td>club</td>\n",
              "      <td>England</td>\n",
              "    </tr>\n",
              "    <tr>\n",
              "      <th>70</th>\n",
              "      <td>London</td>\n",
              "      <td>Crystal Palace</td>\n",
              "      <td>1628</td>\n",
              "      <td>Crystal Palace FC</td>\n",
              "      <td>{'name': 'England', 'id': '0', 'alpha3code': '...</td>\n",
              "      <td>club</td>\n",
              "      <td>England</td>\n",
              "    </tr>\n",
              "    <tr>\n",
              "      <th>75</th>\n",
              "      <td>Southampton, Hampshire</td>\n",
              "      <td>Southampton</td>\n",
              "      <td>1619</td>\n",
              "      <td>Southampton FC</td>\n",
              "      <td>{'name': 'England', 'id': '0', 'alpha3code': '...</td>\n",
              "      <td>club</td>\n",
              "      <td>England</td>\n",
              "    </tr>\n",
              "    <tr>\n",
              "      <th>77</th>\n",
              "      <td>Liverpool</td>\n",
              "      <td>Liverpool</td>\n",
              "      <td>1612</td>\n",
              "      <td>Liverpool FC</td>\n",
              "      <td>{'name': 'England', 'id': '0', 'alpha3code': '...</td>\n",
              "      <td>club</td>\n",
              "      <td>England</td>\n",
              "    </tr>\n",
              "    <tr>\n",
              "      <th>78</th>\n",
              "      <td>London</td>\n",
              "      <td>Chelsea</td>\n",
              "      <td>1610</td>\n",
              "      <td>Chelsea FC</td>\n",
              "      <td>{'name': 'England', 'id': '0', 'alpha3code': '...</td>\n",
              "      <td>club</td>\n",
              "      <td>England</td>\n",
              "    </tr>\n",
              "    <tr>\n",
              "      <th>79</th>\n",
              "      <td>Manchester</td>\n",
              "      <td>Manchester United</td>\n",
              "      <td>1611</td>\n",
              "      <td>Manchester United FC</td>\n",
              "      <td>{'name': 'England', 'id': '0', 'alpha3code': '...</td>\n",
              "      <td>club</td>\n",
              "      <td>England</td>\n",
              "    </tr>\n",
              "    <tr>\n",
              "      <th>84</th>\n",
              "      <td>London</td>\n",
              "      <td>Arsenal</td>\n",
              "      <td>1609</td>\n",
              "      <td>Arsenal FC</td>\n",
              "      <td>{'name': 'England', 'id': '0', 'alpha3code': '...</td>\n",
              "      <td>club</td>\n",
              "      <td>England</td>\n",
              "    </tr>\n",
              "    <tr>\n",
              "      <th>122</th>\n",
              "      <td>London</td>\n",
              "      <td>England</td>\n",
              "      <td>2413</td>\n",
              "      <td>England</td>\n",
              "      <td>{'name': 'England', 'id': 0, 'alpha3code': 'XE...</td>\n",
              "      <td>national</td>\n",
              "      <td>England</td>\n",
              "    </tr>\n",
              "  </tbody>\n",
              "</table>\n",
              "</div>"
            ],
            "text/plain": [
              "                             city                    name  ...      type  country\n",
              "0             Newcastle upon Tyne        Newcastle United  ...      club  England\n",
              "8    Huddersfield, West Yorkshire       Huddersfield Town  ...      club  England\n",
              "26            Bournemouth, Dorset         AFC Bournemouth  ...      club  England\n",
              "27          Brighton, East Sussex  Brighton & Hove Albion  ...      club  England\n",
              "39            Burnley, Lancashire                 Burnley  ...      club  England\n",
              "54                      Leicester          Leicester City  ...      club  England\n",
              "55                         London         West Ham United  ...      club  England\n",
              "56                 Stoke-on-Trent              Stoke City  ...      club  England\n",
              "60                        Watford                 Watford  ...      club  England\n",
              "65                      Liverpool                 Everton  ...      club  England\n",
              "66                  West Bromwich    West Bromwich Albion  ...      club  England\n",
              "67                     Manchester         Manchester City  ...      club  England\n",
              "68                         London       Tottenham Hotspur  ...      club  England\n",
              "70                         London          Crystal Palace  ...      club  England\n",
              "75         Southampton, Hampshire             Southampton  ...      club  England\n",
              "77                      Liverpool               Liverpool  ...      club  England\n",
              "78                         London                 Chelsea  ...      club  England\n",
              "79                     Manchester       Manchester United  ...      club  England\n",
              "84                         London                 Arsenal  ...      club  England\n",
              "122                        London                 England  ...  national  England\n",
              "\n",
              "[20 rows x 7 columns]"
            ]
          },
          "metadata": {
            "tags": []
          },
          "execution_count": 95
        }
      ]
    },
    {
      "cell_type": "code",
      "metadata": {
        "id": "AwCHZUHc3lMS"
      },
      "source": [
        "teams_england_id = teams_england[['wyId', 'country']]"
      ],
      "execution_count": null,
      "outputs": []
    },
    {
      "cell_type": "code",
      "metadata": {
        "id": "U7G-ibWr4Aeg",
        "colab": {
          "base_uri": "https://localhost:8080/",
          "height": 200
        },
        "outputId": "025b614e-71db-4996-8627-e5cfdf6521f9"
      },
      "source": [
        "teams_england_id.head()"
      ],
      "execution_count": null,
      "outputs": [
        {
          "output_type": "execute_result",
          "data": {
            "text/html": [
              "<div>\n",
              "<style scoped>\n",
              "    .dataframe tbody tr th:only-of-type {\n",
              "        vertical-align: middle;\n",
              "    }\n",
              "\n",
              "    .dataframe tbody tr th {\n",
              "        vertical-align: top;\n",
              "    }\n",
              "\n",
              "    .dataframe thead th {\n",
              "        text-align: right;\n",
              "    }\n",
              "</style>\n",
              "<table border=\"1\" class=\"dataframe\">\n",
              "  <thead>\n",
              "    <tr style=\"text-align: right;\">\n",
              "      <th></th>\n",
              "      <th>wyId</th>\n",
              "      <th>country</th>\n",
              "    </tr>\n",
              "  </thead>\n",
              "  <tbody>\n",
              "    <tr>\n",
              "      <th>0</th>\n",
              "      <td>1613</td>\n",
              "      <td>England</td>\n",
              "    </tr>\n",
              "    <tr>\n",
              "      <th>8</th>\n",
              "      <td>1673</td>\n",
              "      <td>England</td>\n",
              "    </tr>\n",
              "    <tr>\n",
              "      <th>26</th>\n",
              "      <td>1659</td>\n",
              "      <td>England</td>\n",
              "    </tr>\n",
              "    <tr>\n",
              "      <th>27</th>\n",
              "      <td>1651</td>\n",
              "      <td>England</td>\n",
              "    </tr>\n",
              "    <tr>\n",
              "      <th>39</th>\n",
              "      <td>1646</td>\n",
              "      <td>England</td>\n",
              "    </tr>\n",
              "  </tbody>\n",
              "</table>\n",
              "</div>"
            ],
            "text/plain": [
              "    wyId  country\n",
              "0   1613  England\n",
              "8   1673  England\n",
              "26  1659  England\n",
              "27  1651  England\n",
              "39  1646  England"
            ]
          },
          "metadata": {
            "tags": []
          },
          "execution_count": 97
        }
      ]
    },
    {
      "cell_type": "code",
      "metadata": {
        "id": "tZe9j4N0rO6j"
      },
      "source": [
        "players_by_club_team = players[['birthDate', 'currentTeamId']]"
      ],
      "execution_count": null,
      "outputs": []
    },
    {
      "cell_type": "code",
      "metadata": {
        "id": "uq9juHoF4epK"
      },
      "source": [
        "england_players = pd.merge(teams_england_id, players_by_club_team, left_on='wyId', right_on='currentTeamId', how='inner')"
      ],
      "execution_count": null,
      "outputs": []
    },
    {
      "cell_type": "code",
      "metadata": {
        "id": "4cuTVWe26eae",
        "colab": {
          "base_uri": "https://localhost:8080/",
          "height": 35
        },
        "outputId": "0debc804-c89c-4711-affd-5baef06ae5f8"
      },
      "source": [
        "#create column of age in years, use mid-point of club season which would be Jan 2018\n",
        "pd.Timestamp('2018-01-01')"
      ],
      "execution_count": null,
      "outputs": [
        {
          "output_type": "execute_result",
          "data": {
            "text/plain": [
              "Timestamp('2018-01-01 00:00:00')"
            ]
          },
          "metadata": {
            "tags": []
          },
          "execution_count": 100
        }
      ]
    },
    {
      "cell_type": "code",
      "metadata": {
        "id": "Uq9WEqG46ym_"
      },
      "source": [
        "england_player_age = (pd.Timestamp('2018-01-01') - pd.to_datetime(england_players['birthDate'])) / np.timedelta64(1, 'Y')"
      ],
      "execution_count": null,
      "outputs": []
    },
    {
      "cell_type": "code",
      "metadata": {
        "id": "K403MZDr7N1T"
      },
      "source": [
        "england_players['player_age'] = player_age"
      ],
      "execution_count": null,
      "outputs": []
    },
    {
      "cell_type": "code",
      "metadata": {
        "id": "Wuwt3Nni7Y0J"
      },
      "source": [
        "club_team_age_mean = england_players.groupby(by='currentTeamId')[['player_age']].mean()\n",
        "club_team_age_mean.player_age = pd.to_numeric(club_team_age_mean.player_age)"
      ],
      "execution_count": null,
      "outputs": []
    },
    {
      "cell_type": "code",
      "metadata": {
        "id": "HANbd4vI79S_",
        "colab": {
          "base_uri": "https://localhost:8080/",
          "height": 295
        },
        "outputId": "8c058c01-3eac-47c8-a768-1bbcfd88eae5"
      },
      "source": [
        "club_team_age_mean.player_age.plot.kde(bw_method=0.25)\n",
        "plt.title('Premier League Teams (2017/2018 Season)');\n",
        "plt.xlabel('Average Player Age');\n"
      ],
      "execution_count": null,
      "outputs": [
        {
          "output_type": "display_data",
          "data": {
            "image/png": "[encoded data removed]",
            "text/plain": [
              "<Figure size 432x288 with 1 Axes>"
            ]
          },
          "metadata": {
            "tags": []
          }
        }
      ]
    },
    {
      "cell_type": "code",
      "metadata": {
        "id": "xVNPEZwvEC1H",
        "colab": {
          "base_uri": "https://localhost:8080/",
          "height": 35
        },
        "outputId": "701b8781-74d4-4cc7-d2c6-3bb74c060110"
      },
      "source": [
        "club_team_age_mean.shape"
      ],
      "execution_count": null,
      "outputs": [
        {
          "output_type": "execute_result",
          "data": {
            "text/plain": [
              "(19, 1)"
            ]
          },
          "metadata": {
            "tags": []
          },
          "execution_count": 105
        }
      ]
    },
    {
      "cell_type": "code",
      "metadata": {
        "id": "EODFAnwx_CCu"
      },
      "source": [
        "matches_england_fn = 'https://beccacauthorn.github.io/img/matches_England.json'"
      ],
      "execution_count": null,
      "outputs": []
    },
    {
      "cell_type": "code",
      "metadata": {
        "id": "QJ4AHKqipKtT"
      },
      "source": [
        "england_matches = pd.read_json(matches_england_fn, orient='records')"
      ],
      "execution_count": null,
      "outputs": []
    },
    {
      "cell_type": "code",
      "metadata": {
        "id": "P94TQYeYMpMv",
        "colab": {
          "base_uri": "https://localhost:8080/",
          "height": 1000
        },
        "outputId": "15dae433-7f13-4253-f3e3-771b9c44decd"
      },
      "source": [
        "england_matches.head(30)"
      ],
      "execution_count": null,
      "outputs": [
        {
          "output_type": "execute_result",
          "data": {
            "text/html": [
              "<div>\n",
              "<style scoped>\n",
              "    .dataframe tbody tr th:only-of-type {\n",
              "        vertical-align: middle;\n",
              "    }\n",
              "\n",
              "    .dataframe tbody tr th {\n",
              "        vertical-align: top;\n",
              "    }\n",
              "\n",
              "    .dataframe thead th {\n",
              "        text-align: right;\n",
              "    }\n",
              "</style>\n",
              "<table border=\"1\" class=\"dataframe\">\n",
              "  <thead>\n",
              "    <tr style=\"text-align: right;\">\n",
              "      <th></th>\n",
              "      <th>status</th>\n",
              "      <th>roundId</th>\n",
              "      <th>gameweek</th>\n",
              "      <th>teamsData</th>\n",
              "      <th>seasonId</th>\n",
              "      <th>dateutc</th>\n",
              "      <th>winner</th>\n",
              "      <th>venue</th>\n",
              "      <th>wyId</th>\n",
              "      <th>label</th>\n",
              "      <th>date</th>\n",
              "      <th>referees</th>\n",
              "      <th>duration</th>\n",
              "      <th>competitionId</th>\n",
              "    </tr>\n",
              "  </thead>\n",
              "  <tbody>\n",
              "    <tr>\n",
              "      <th>0</th>\n",
              "      <td>Played</td>\n",
              "      <td>4405654</td>\n",
              "      <td>38</td>\n",
              "      <td>{'1646': {'scoreET': 0, 'coachId': 8880, 'side...</td>\n",
              "      <td>181150</td>\n",
              "      <td>2018-05-13 14:00:00</td>\n",
              "      <td>1659</td>\n",
              "      <td>Turf Moor</td>\n",
              "      <td>2500089</td>\n",
              "      <td>Burnley - AFC Bournemouth, 1 - 2</td>\n",
              "      <td>May 13, 2018 at 4:00:00 PM GMT+2</td>\n",
              "      <td>[{'refereeId': 385705, 'role': 'referee'}, {'r...</td>\n",
              "      <td>Regular</td>\n",
              "      <td>364</td>\n",
              "    </tr>\n",
              "    <tr>\n",
              "      <th>1</th>\n",
              "      <td>Played</td>\n",
              "      <td>4405654</td>\n",
              "      <td>38</td>\n",
              "      <td>{'1628': {'scoreET': 0, 'coachId': 8357, 'side...</td>\n",
              "      <td>181150</td>\n",
              "      <td>2018-05-13 14:00:00</td>\n",
              "      <td>1628</td>\n",
              "      <td>Selhurst Park</td>\n",
              "      <td>2500090</td>\n",
              "      <td>Crystal Palace - West Bromwich Albion, 2 - 0</td>\n",
              "      <td>May 13, 2018 at 4:00:00 PM GMT+2</td>\n",
              "      <td>[{'refereeId': 381851, 'role': 'referee'}, {'r...</td>\n",
              "      <td>Regular</td>\n",
              "      <td>364</td>\n",
              "    </tr>\n",
              "    <tr>\n",
              "      <th>2</th>\n",
              "      <td>Played</td>\n",
              "      <td>4405654</td>\n",
              "      <td>38</td>\n",
              "      <td>{'1609': {'scoreET': 0, 'coachId': 7845, 'side...</td>\n",
              "      <td>181150</td>\n",
              "      <td>2018-05-13 14:00:00</td>\n",
              "      <td>1609</td>\n",
              "      <td>The John Smith's Stadium</td>\n",
              "      <td>2500091</td>\n",
              "      <td>Huddersfield Town - Arsenal, 0 - 1</td>\n",
              "      <td>May 13, 2018 at 4:00:00 PM GMT+2</td>\n",
              "      <td>[{'refereeId': 384965, 'role': 'referee'}, {'r...</td>\n",
              "      <td>Regular</td>\n",
              "      <td>364</td>\n",
              "    </tr>\n",
              "    <tr>\n",
              "      <th>3</th>\n",
              "      <td>Played</td>\n",
              "      <td>4405654</td>\n",
              "      <td>38</td>\n",
              "      <td>{'1651': {'scoreET': 0, 'coachId': 8093, 'side...</td>\n",
              "      <td>181150</td>\n",
              "      <td>2018-05-13 14:00:00</td>\n",
              "      <td>1612</td>\n",
              "      <td>Anfield</td>\n",
              "      <td>2500092</td>\n",
              "      <td>Liverpool - Brighton &amp; Hove Albion, 4 - 0</td>\n",
              "      <td>May 13, 2018 at 4:00:00 PM GMT+2</td>\n",
              "      <td>[{'refereeId': 385704, 'role': 'referee'}, {'r...</td>\n",
              "      <td>Regular</td>\n",
              "      <td>364</td>\n",
              "    </tr>\n",
              "    <tr>\n",
              "      <th>4</th>\n",
              "      <td>Played</td>\n",
              "      <td>4405654</td>\n",
              "      <td>38</td>\n",
              "      <td>{'1644': {'scoreET': 0, 'coachId': 93112, 'sid...</td>\n",
              "      <td>181150</td>\n",
              "      <td>2018-05-13 14:00:00</td>\n",
              "      <td>1611</td>\n",
              "      <td>Old Trafford</td>\n",
              "      <td>2500093</td>\n",
              "      <td>Manchester United - Watford, 1 - 0</td>\n",
              "      <td>May 13, 2018 at 4:00:00 PM GMT+2</td>\n",
              "      <td>[{'refereeId': 381853, 'role': 'referee'}, {'r...</td>\n",
              "      <td>Regular</td>\n",
              "      <td>364</td>\n",
              "    </tr>\n",
              "    <tr>\n",
              "      <th>5</th>\n",
              "      <td>Played</td>\n",
              "      <td>4405654</td>\n",
              "      <td>38</td>\n",
              "      <td>{'1613': {'scoreET': 0, 'coachId': 210700, 'si...</td>\n",
              "      <td>181150</td>\n",
              "      <td>2018-05-13 14:00:00</td>\n",
              "      <td>1613</td>\n",
              "      <td>St. James' Park</td>\n",
              "      <td>2500094</td>\n",
              "      <td>Newcastle United - Chelsea, 3 - 0</td>\n",
              "      <td>May 13, 2018 at 4:00:00 PM GMT+2</td>\n",
              "      <td>[{'refereeId': 384888, 'role': 'referee'}, {'r...</td>\n",
              "      <td>Regular</td>\n",
              "      <td>364</td>\n",
              "    </tr>\n",
              "    <tr>\n",
              "      <th>6</th>\n",
              "      <td>Played</td>\n",
              "      <td>4405654</td>\n",
              "      <td>38</td>\n",
              "      <td>{'1625': {'scoreET': 0, 'coachId': 267136, 'si...</td>\n",
              "      <td>181150</td>\n",
              "      <td>2018-05-13 14:00:00</td>\n",
              "      <td>1625</td>\n",
              "      <td>St. Mary's Stadium</td>\n",
              "      <td>2500095</td>\n",
              "      <td>Southampton - Manchester City, 0 - 1</td>\n",
              "      <td>May 13, 2018 at 4:00:00 PM GMT+2</td>\n",
              "      <td>[{'refereeId': 385911, 'role': 'referee'}, {'r...</td>\n",
              "      <td>Regular</td>\n",
              "      <td>364</td>\n",
              "    </tr>\n",
              "    <tr>\n",
              "      <th>7</th>\n",
              "      <td>Played</td>\n",
              "      <td>4405654</td>\n",
              "      <td>38</td>\n",
              "      <td>{'10531': {'scoreET': 0, 'coachId': 32573, 'si...</td>\n",
              "      <td>181150</td>\n",
              "      <td>2018-05-13 14:00:00</td>\n",
              "      <td>1639</td>\n",
              "      <td>Liberty Stadium</td>\n",
              "      <td>2500096</td>\n",
              "      <td>Swansea City - Stoke City, 1 - 2</td>\n",
              "      <td>May 13, 2018 at 4:00:00 PM GMT+2</td>\n",
              "      <td>[{'refereeId': 378952, 'role': 'referee'}, {'r...</td>\n",
              "      <td>Regular</td>\n",
              "      <td>364</td>\n",
              "    </tr>\n",
              "    <tr>\n",
              "      <th>8</th>\n",
              "      <td>Played</td>\n",
              "      <td>4405654</td>\n",
              "      <td>38</td>\n",
              "      <td>{'1631': {'scoreET': 0, 'coachId': 209010, 'si...</td>\n",
              "      <td>181150</td>\n",
              "      <td>2018-05-13 14:00:00</td>\n",
              "      <td>1624</td>\n",
              "      <td>Wembley Stadium</td>\n",
              "      <td>2500097</td>\n",
              "      <td>Tottenham Hotspur - Leicester City, 5 - 4</td>\n",
              "      <td>May 13, 2018 at 4:00:00 PM GMT+2</td>\n",
              "      <td>[{'refereeId': 378951, 'role': 'referee'}, {'r...</td>\n",
              "      <td>Regular</td>\n",
              "      <td>364</td>\n",
              "    </tr>\n",
              "    <tr>\n",
              "      <th>9</th>\n",
              "      <td>Played</td>\n",
              "      <td>4405654</td>\n",
              "      <td>38</td>\n",
              "      <td>{'1623': {'scoreET': 0, 'coachId': 8541, 'side...</td>\n",
              "      <td>181150</td>\n",
              "      <td>2018-05-13 14:00:00</td>\n",
              "      <td>1633</td>\n",
              "      <td>London Stadium</td>\n",
              "      <td>2500098</td>\n",
              "      <td>West Ham United - Everton, 3 - 1</td>\n",
              "      <td>May 13, 2018 at 4:00:00 PM GMT+2</td>\n",
              "      <td>[{'refereeId': 408156, 'role': 'referee'}, {'r...</td>\n",
              "      <td>Regular</td>\n",
              "      <td>364</td>\n",
              "    </tr>\n",
              "    <tr>\n",
              "      <th>10</th>\n",
              "      <td>Played</td>\n",
              "      <td>4405654</td>\n",
              "      <td>31</td>\n",
              "      <td>{'1633': {'scoreET': 0, 'coachId': 8235, 'side...</td>\n",
              "      <td>181150</td>\n",
              "      <td>2018-05-10 18:45:00</td>\n",
              "      <td>0</td>\n",
              "      <td>London Stadium</td>\n",
              "      <td>2500028</td>\n",
              "      <td>West Ham United - Manchester United, 0 - 0</td>\n",
              "      <td>May 10, 2018 at 8:45:00 PM GMT+2</td>\n",
              "      <td>[{'refereeId': 381851, 'role': 'referee'}, {'r...</td>\n",
              "      <td>Regular</td>\n",
              "      <td>364</td>\n",
              "    </tr>\n",
              "    <tr>\n",
              "      <th>11</th>\n",
              "      <td>Played</td>\n",
              "      <td>4405654</td>\n",
              "      <td>31</td>\n",
              "      <td>{'1651': {'scoreET': 0, 'coachId': 8093, 'side...</td>\n",
              "      <td>181150</td>\n",
              "      <td>2018-05-09 19:00:00</td>\n",
              "      <td>1625</td>\n",
              "      <td>Etihad Stadium</td>\n",
              "      <td>2500024</td>\n",
              "      <td>Manchester City - Brighton &amp; Hove Albion, 3 - 1</td>\n",
              "      <td>May 9, 2018 at 9:00:00 PM GMT+2</td>\n",
              "      <td>[{'refereeId': 385705, 'role': 'referee'}, {'r...</td>\n",
              "      <td>Regular</td>\n",
              "      <td>364</td>\n",
              "    </tr>\n",
              "    <tr>\n",
              "      <th>12</th>\n",
              "      <td>Played</td>\n",
              "      <td>4405654</td>\n",
              "      <td>31</td>\n",
              "      <td>{'1613': {'scoreET': 0, 'coachId': 210700, 'si...</td>\n",
              "      <td>181150</td>\n",
              "      <td>2018-05-09 19:00:00</td>\n",
              "      <td>1624</td>\n",
              "      <td>Wembley Stadium</td>\n",
              "      <td>2500027</td>\n",
              "      <td>Tottenham Hotspur - Newcastle United, 1 - 0</td>\n",
              "      <td>May 9, 2018 at 9:00:00 PM GMT+2</td>\n",
              "      <td>[{'refereeId': 385915, 'role': 'referee'}, {'r...</td>\n",
              "      <td>Regular</td>\n",
              "      <td>364</td>\n",
              "    </tr>\n",
              "    <tr>\n",
              "      <th>13</th>\n",
              "      <td>Played</td>\n",
              "      <td>4405654</td>\n",
              "      <td>31</td>\n",
              "      <td>{'1609': {'scoreET': 0, 'coachId': 7845, 'side...</td>\n",
              "      <td>181150</td>\n",
              "      <td>2018-05-09 18:45:00</td>\n",
              "      <td>1631</td>\n",
              "      <td>King Power Stadium</td>\n",
              "      <td>2500022</td>\n",
              "      <td>Leicester City - Arsenal, 3 - 1</td>\n",
              "      <td>May 9, 2018 at 8:45:00 PM GMT+2</td>\n",
              "      <td>[{'refereeId': 408156, 'role': 'referee'}, {'r...</td>\n",
              "      <td>Regular</td>\n",
              "      <td>364</td>\n",
              "    </tr>\n",
              "    <tr>\n",
              "      <th>14</th>\n",
              "      <td>Played</td>\n",
              "      <td>4405654</td>\n",
              "      <td>35</td>\n",
              "      <td>{'1610': {'scoreET': 0, 'coachId': 272869, 'si...</td>\n",
              "      <td>181150</td>\n",
              "      <td>2018-05-09 18:45:00</td>\n",
              "      <td>0</td>\n",
              "      <td>Stamford Bridge</td>\n",
              "      <td>2500062</td>\n",
              "      <td>Chelsea - Huddersfield Town, 1 - 1</td>\n",
              "      <td>May 9, 2018 at 8:45:00 PM GMT+2</td>\n",
              "      <td>[{'refereeId': 381853, 'role': 'referee'}, {'r...</td>\n",
              "      <td>Regular</td>\n",
              "      <td>364</td>\n",
              "    </tr>\n",
              "    <tr>\n",
              "      <th>15</th>\n",
              "      <td>Played</td>\n",
              "      <td>4405654</td>\n",
              "      <td>31</td>\n",
              "      <td>{'10531': {'scoreET': 0, 'coachId': 32573, 'si...</td>\n",
              "      <td>181150</td>\n",
              "      <td>2018-05-08 18:45:00</td>\n",
              "      <td>1619</td>\n",
              "      <td>Liberty Stadium</td>\n",
              "      <td>2500026</td>\n",
              "      <td>Swansea City - Southampton, 0 - 1</td>\n",
              "      <td>May 8, 2018 at 8:45:00 PM GMT+2</td>\n",
              "      <td>[{'refereeId': 384965, 'role': 'referee'}, {'r...</td>\n",
              "      <td>Regular</td>\n",
              "      <td>364</td>\n",
              "    </tr>\n",
              "    <tr>\n",
              "      <th>16</th>\n",
              "      <td>Played</td>\n",
              "      <td>4405654</td>\n",
              "      <td>37</td>\n",
              "      <td>{'1609': {'scoreET': 0, 'coachId': 7845, 'side...</td>\n",
              "      <td>181150</td>\n",
              "      <td>2018-05-06 15:30:00</td>\n",
              "      <td>1609</td>\n",
              "      <td>Emirates Stadium</td>\n",
              "      <td>2500080</td>\n",
              "      <td>Arsenal - Burnley, 5 - 0</td>\n",
              "      <td>May 6, 2018 at 5:30:00 PM GMT+2</td>\n",
              "      <td>[{'refereeId': 385911, 'role': 'referee'}, {'r...</td>\n",
              "      <td>Regular</td>\n",
              "      <td>364</td>\n",
              "    </tr>\n",
              "    <tr>\n",
              "      <th>17</th>\n",
              "      <td>Played</td>\n",
              "      <td>4405654</td>\n",
              "      <td>37</td>\n",
              "      <td>{'1612': {'scoreET': 0, 'coachId': 14791, 'sid...</td>\n",
              "      <td>181150</td>\n",
              "      <td>2018-05-06 15:30:00</td>\n",
              "      <td>1610</td>\n",
              "      <td>Stamford Bridge</td>\n",
              "      <td>2500082</td>\n",
              "      <td>Chelsea - Liverpool, 1 - 0</td>\n",
              "      <td>May 6, 2018 at 5:30:00 PM GMT+2</td>\n",
              "      <td>[{'refereeId': 378952, 'role': 'referee'}, {'r...</td>\n",
              "      <td>Regular</td>\n",
              "      <td>364</td>\n",
              "    </tr>\n",
              "    <tr>\n",
              "      <th>18</th>\n",
              "      <td>Played</td>\n",
              "      <td>4405654</td>\n",
              "      <td>37</td>\n",
              "      <td>{'1625': {'scoreET': 0, 'coachId': 267136, 'si...</td>\n",
              "      <td>181150</td>\n",
              "      <td>2018-05-06 12:30:00</td>\n",
              "      <td>0</td>\n",
              "      <td>Etihad Stadium</td>\n",
              "      <td>2500085</td>\n",
              "      <td>Manchester City - Huddersfield Town, 0 - 0</td>\n",
              "      <td>May 6, 2018 at 2:30:00 PM GMT+2</td>\n",
              "      <td>[{'refereeId': 385909, 'role': 'referee'}, {'r...</td>\n",
              "      <td>Regular</td>\n",
              "      <td>364</td>\n",
              "    </tr>\n",
              "    <tr>\n",
              "      <th>19</th>\n",
              "      <td>Played</td>\n",
              "      <td>4405654</td>\n",
              "      <td>37</td>\n",
              "      <td>{'1623': {'scoreET': 0, 'coachId': 8541, 'side...</td>\n",
              "      <td>181150</td>\n",
              "      <td>2018-05-05 16:30:00</td>\n",
              "      <td>0</td>\n",
              "      <td>Goodison Park</td>\n",
              "      <td>2500083</td>\n",
              "      <td>Everton - Southampton, 1 - 1</td>\n",
              "      <td>May 5, 2018 at 6:30:00 PM GMT+2</td>\n",
              "      <td>[{'refereeId': 381851, 'role': 'referee'}, {'r...</td>\n",
              "      <td>Regular</td>\n",
              "      <td>364</td>\n",
              "    </tr>\n",
              "    <tr>\n",
              "      <th>20</th>\n",
              "      <td>Played</td>\n",
              "      <td>4405654</td>\n",
              "      <td>37</td>\n",
              "      <td>{'10531': {'scoreET': 0, 'coachId': 32573, 'si...</td>\n",
              "      <td>181150</td>\n",
              "      <td>2018-05-05 14:00:00</td>\n",
              "      <td>1659</td>\n",
              "      <td>Vitality Stadium</td>\n",
              "      <td>2500079</td>\n",
              "      <td>AFC Bournemouth - Swansea City, 1 - 0</td>\n",
              "      <td>May 5, 2018 at 4:00:00 PM GMT+2</td>\n",
              "      <td>[{'refereeId': 385704, 'role': 'referee'}, {'r...</td>\n",
              "      <td>Regular</td>\n",
              "      <td>364</td>\n",
              "    </tr>\n",
              "    <tr>\n",
              "      <th>21</th>\n",
              "      <td>Played</td>\n",
              "      <td>4405654</td>\n",
              "      <td>37</td>\n",
              "      <td>{'1631': {'scoreET': 0, 'coachId': 209010, 'si...</td>\n",
              "      <td>181150</td>\n",
              "      <td>2018-05-05 14:00:00</td>\n",
              "      <td>1633</td>\n",
              "      <td>King Power Stadium</td>\n",
              "      <td>2500084</td>\n",
              "      <td>Leicester City - West Ham United, 0 - 2</td>\n",
              "      <td>May 5, 2018 at 4:00:00 PM GMT+2</td>\n",
              "      <td>[{'refereeId': 385737, 'role': 'referee'}, {'r...</td>\n",
              "      <td>Regular</td>\n",
              "      <td>364</td>\n",
              "    </tr>\n",
              "    <tr>\n",
              "      <th>22</th>\n",
              "      <td>Played</td>\n",
              "      <td>4405654</td>\n",
              "      <td>37</td>\n",
              "      <td>{'1644': {'scoreET': 0, 'coachId': 93112, 'sid...</td>\n",
              "      <td>181150</td>\n",
              "      <td>2018-05-05 14:00:00</td>\n",
              "      <td>1644</td>\n",
              "      <td>Vicarage Road Stadium</td>\n",
              "      <td>2500087</td>\n",
              "      <td>Watford - Newcastle United, 2 - 1</td>\n",
              "      <td>May 5, 2018 at 4:00:00 PM GMT+2</td>\n",
              "      <td>[{'refereeId': 388333, 'role': 'referee'}, {'r...</td>\n",
              "      <td>Regular</td>\n",
              "      <td>364</td>\n",
              "    </tr>\n",
              "    <tr>\n",
              "      <th>23</th>\n",
              "      <td>Played</td>\n",
              "      <td>4405654</td>\n",
              "      <td>37</td>\n",
              "      <td>{'1627': {'scoreET': 0, 'coachId': 0, 'side': ...</td>\n",
              "      <td>181150</td>\n",
              "      <td>2018-05-05 14:00:00</td>\n",
              "      <td>1627</td>\n",
              "      <td>The Hawthorns</td>\n",
              "      <td>2500088</td>\n",
              "      <td>West Bromwich Albion - Tottenham Hotspur, 1 - 0</td>\n",
              "      <td>May 5, 2018 at 4:00:00 PM GMT+2</td>\n",
              "      <td>[{'refereeId': 385916, 'role': 'referee'}, {'r...</td>\n",
              "      <td>Regular</td>\n",
              "      <td>364</td>\n",
              "    </tr>\n",
              "    <tr>\n",
              "      <th>24</th>\n",
              "      <td>Played</td>\n",
              "      <td>4405654</td>\n",
              "      <td>37</td>\n",
              "      <td>{'1639': {'scoreET': 0, 'coachId': 8329, 'side...</td>\n",
              "      <td>181150</td>\n",
              "      <td>2018-05-05 11:30:00</td>\n",
              "      <td>1628</td>\n",
              "      <td>Bet365 Stadium</td>\n",
              "      <td>2500086</td>\n",
              "      <td>Stoke City - Crystal Palace, 1 - 2</td>\n",
              "      <td>May 5, 2018 at 1:30:00 PM GMT+2</td>\n",
              "      <td>[{'refereeId': 384888, 'role': 'referee'}, {'r...</td>\n",
              "      <td>Regular</td>\n",
              "      <td>364</td>\n",
              "    </tr>\n",
              "    <tr>\n",
              "      <th>25</th>\n",
              "      <td>Played</td>\n",
              "      <td>4405654</td>\n",
              "      <td>37</td>\n",
              "      <td>{'1651': {'scoreET': 0, 'coachId': 8093, 'side...</td>\n",
              "      <td>181150</td>\n",
              "      <td>2018-05-04 19:00:00</td>\n",
              "      <td>1651</td>\n",
              "      <td>The American Express Community Stadium</td>\n",
              "      <td>2500081</td>\n",
              "      <td>Brighton &amp; Hove Albion - Manchester United, 1 - 0</td>\n",
              "      <td>May 4, 2018 at 9:00:00 PM GMT+2</td>\n",
              "      <td>[{'refereeId': 378951, 'role': 'referee'}, {'r...</td>\n",
              "      <td>Regular</td>\n",
              "      <td>364</td>\n",
              "    </tr>\n",
              "    <tr>\n",
              "      <th>26</th>\n",
              "      <td>Played</td>\n",
              "      <td>4405654</td>\n",
              "      <td>36</td>\n",
              "      <td>{'1644': {'scoreET': 0, 'coachId': 93112, 'sid...</td>\n",
              "      <td>181150</td>\n",
              "      <td>2018-04-30 19:00:00</td>\n",
              "      <td>1624</td>\n",
              "      <td>Wembley Stadium</td>\n",
              "      <td>2500077</td>\n",
              "      <td>Tottenham Hotspur - Watford, 2 - 0</td>\n",
              "      <td>April 30, 2018 at 9:00:00 PM GMT+2</td>\n",
              "      <td>[{'refereeId': 384965, 'role': 'referee'}, {'r...</td>\n",
              "      <td>Regular</td>\n",
              "      <td>364</td>\n",
              "    </tr>\n",
              "    <tr>\n",
              "      <th>27</th>\n",
              "      <td>Played</td>\n",
              "      <td>4405654</td>\n",
              "      <td>36</td>\n",
              "      <td>{'1609': {'scoreET': 0, 'coachId': 7845, 'side...</td>\n",
              "      <td>181150</td>\n",
              "      <td>2018-04-29 15:30:00</td>\n",
              "      <td>1611</td>\n",
              "      <td>Old Trafford</td>\n",
              "      <td>2500073</td>\n",
              "      <td>Manchester United - Arsenal, 2 - 1</td>\n",
              "      <td>April 29, 2018 at 5:30:00 PM GMT+2</td>\n",
              "      <td>[{'refereeId': 385704, 'role': 'referee'}, {'r...</td>\n",
              "      <td>Regular</td>\n",
              "      <td>364</td>\n",
              "    </tr>\n",
              "    <tr>\n",
              "      <th>28</th>\n",
              "      <td>Played</td>\n",
              "      <td>4405654</td>\n",
              "      <td>36</td>\n",
              "      <td>{'1633': {'scoreET': 0, 'coachId': 8235, 'side...</td>\n",
              "      <td>181150</td>\n",
              "      <td>2018-04-29 13:15:00</td>\n",
              "      <td>1625</td>\n",
              "      <td>London Stadium</td>\n",
              "      <td>2500078</td>\n",
              "      <td>West Ham United - Manchester City, 1 - 4</td>\n",
              "      <td>April 29, 2018 at 3:15:00 PM GMT+2</td>\n",
              "      <td>[{'refereeId': 385915, 'role': 'referee'}, {'r...</td>\n",
              "      <td>Regular</td>\n",
              "      <td>364</td>\n",
              "    </tr>\n",
              "    <tr>\n",
              "      <th>29</th>\n",
              "      <td>Played</td>\n",
              "      <td>4405654</td>\n",
              "      <td>36</td>\n",
              "      <td>{'10531': {'scoreET': 0, 'coachId': 0, 'side':...</td>\n",
              "      <td>181150</td>\n",
              "      <td>2018-04-28 16:30:00</td>\n",
              "      <td>1610</td>\n",
              "      <td>Liberty Stadium</td>\n",
              "      <td>2500076</td>\n",
              "      <td>Swansea City - Chelsea, 0 - 1</td>\n",
              "      <td>April 28, 2018 at 6:30:00 PM GMT+2</td>\n",
              "      <td>[{'refereeId': 381851, 'role': 'referee'}, {'r...</td>\n",
              "      <td>Regular</td>\n",
              "      <td>364</td>\n",
              "    </tr>\n",
              "  </tbody>\n",
              "</table>\n",
              "</div>"
            ],
            "text/plain": [
              "    status  roundId  ...  duration competitionId\n",
              "0   Played  4405654  ...   Regular           364\n",
              "1   Played  4405654  ...   Regular           364\n",
              "2   Played  4405654  ...   Regular           364\n",
              "3   Played  4405654  ...   Regular           364\n",
              "4   Played  4405654  ...   Regular           364\n",
              "5   Played  4405654  ...   Regular           364\n",
              "6   Played  4405654  ...   Regular           364\n",
              "7   Played  4405654  ...   Regular           364\n",
              "8   Played  4405654  ...   Regular           364\n",
              "9   Played  4405654  ...   Regular           364\n",
              "10  Played  4405654  ...   Regular           364\n",
              "11  Played  4405654  ...   Regular           364\n",
              "12  Played  4405654  ...   Regular           364\n",
              "13  Played  4405654  ...   Regular           364\n",
              "14  Played  4405654  ...   Regular           364\n",
              "15  Played  4405654  ...   Regular           364\n",
              "16  Played  4405654  ...   Regular           364\n",
              "17  Played  4405654  ...   Regular           364\n",
              "18  Played  4405654  ...   Regular           364\n",
              "19  Played  4405654  ...   Regular           364\n",
              "20  Played  4405654  ...   Regular           364\n",
              "21  Played  4405654  ...   Regular           364\n",
              "22  Played  4405654  ...   Regular           364\n",
              "23  Played  4405654  ...   Regular           364\n",
              "24  Played  4405654  ...   Regular           364\n",
              "25  Played  4405654  ...   Regular           364\n",
              "26  Played  4405654  ...   Regular           364\n",
              "27  Played  4405654  ...   Regular           364\n",
              "28  Played  4405654  ...   Regular           364\n",
              "29  Played  4405654  ...   Regular           364\n",
              "\n",
              "[30 rows x 14 columns]"
            ]
          },
          "metadata": {
            "tags": []
          },
          "execution_count": 108
        }
      ]
    },
    {
      "cell_type": "code",
      "metadata": {
        "id": "pEwzLc2wBxUx"
      },
      "source": [
        "england_matches_winners = pd.DataFrame(england_matches['winner'].value_counts())"
      ],
      "execution_count": null,
      "outputs": []
    },
    {
      "cell_type": "code",
      "metadata": {
        "id": "zttnW5SYIs1V",
        "colab": {
          "base_uri": "https://localhost:8080/",
          "height": 200
        },
        "outputId": "e0718a9b-5b15-4ff9-f24f-e1641c5b1c05"
      },
      "source": [
        "england_matches_winners.head()"
      ],
      "execution_count": null,
      "outputs": [
        {
          "output_type": "execute_result",
          "data": {
            "text/html": [
              "<div>\n",
              "<style scoped>\n",
              "    .dataframe tbody tr th:only-of-type {\n",
              "        vertical-align: middle;\n",
              "    }\n",
              "\n",
              "    .dataframe tbody tr th {\n",
              "        vertical-align: top;\n",
              "    }\n",
              "\n",
              "    .dataframe thead th {\n",
              "        text-align: right;\n",
              "    }\n",
              "</style>\n",
              "<table border=\"1\" class=\"dataframe\">\n",
              "  <thead>\n",
              "    <tr style=\"text-align: right;\">\n",
              "      <th></th>\n",
              "      <th>winner</th>\n",
              "    </tr>\n",
              "  </thead>\n",
              "  <tbody>\n",
              "    <tr>\n",
              "      <th>0</th>\n",
              "      <td>101</td>\n",
              "    </tr>\n",
              "    <tr>\n",
              "      <th>1625</th>\n",
              "      <td>32</td>\n",
              "    </tr>\n",
              "    <tr>\n",
              "      <th>1611</th>\n",
              "      <td>25</td>\n",
              "    </tr>\n",
              "    <tr>\n",
              "      <th>1624</th>\n",
              "      <td>23</td>\n",
              "    </tr>\n",
              "    <tr>\n",
              "      <th>1610</th>\n",
              "      <td>21</td>\n",
              "    </tr>\n",
              "  </tbody>\n",
              "</table>\n",
              "</div>"
            ],
            "text/plain": [
              "      winner\n",
              "0        101\n",
              "1625      32\n",
              "1611      25\n",
              "1624      23\n",
              "1610      21"
            ]
          },
          "metadata": {
            "tags": []
          },
          "execution_count": 110
        }
      ]
    },
    {
      "cell_type": "code",
      "metadata": {
        "id": "OiC3Gy4wHqmn",
        "colab": {
          "base_uri": "https://localhost:8080/",
          "height": 230
        },
        "outputId": "e2ab9873-bd2c-4b6e-e802-e0a88b2f15e8"
      },
      "source": [
        "club_wins_merged = pd.merge(club_team_age_mean, england_matches_winners, left_on='currentTeamId', right_index=True, how='inner')\n",
        "club_wins_merged.head()"
      ],
      "execution_count": null,
      "outputs": [
        {
          "output_type": "execute_result",
          "data": {
            "text/html": [
              "<div>\n",
              "<style scoped>\n",
              "    .dataframe tbody tr th:only-of-type {\n",
              "        vertical-align: middle;\n",
              "    }\n",
              "\n",
              "    .dataframe tbody tr th {\n",
              "        vertical-align: top;\n",
              "    }\n",
              "\n",
              "    .dataframe thead th {\n",
              "        text-align: right;\n",
              "    }\n",
              "</style>\n",
              "<table border=\"1\" class=\"dataframe\">\n",
              "  <thead>\n",
              "    <tr style=\"text-align: right;\">\n",
              "      <th></th>\n",
              "      <th>player_age</th>\n",
              "      <th>winner</th>\n",
              "    </tr>\n",
              "    <tr>\n",
              "      <th>currentTeamId</th>\n",
              "      <th></th>\n",
              "      <th></th>\n",
              "    </tr>\n",
              "  </thead>\n",
              "  <tbody>\n",
              "    <tr>\n",
              "      <th>1609</th>\n",
              "      <td>28.131173</td>\n",
              "      <td>19</td>\n",
              "    </tr>\n",
              "    <tr>\n",
              "      <th>1610</th>\n",
              "      <td>27.948783</td>\n",
              "      <td>21</td>\n",
              "    </tr>\n",
              "    <tr>\n",
              "      <th>1611</th>\n",
              "      <td>27.776181</td>\n",
              "      <td>25</td>\n",
              "    </tr>\n",
              "    <tr>\n",
              "      <th>1612</th>\n",
              "      <td>27.469919</td>\n",
              "      <td>21</td>\n",
              "    </tr>\n",
              "    <tr>\n",
              "      <th>1613</th>\n",
              "      <td>26.863089</td>\n",
              "      <td>12</td>\n",
              "    </tr>\n",
              "  </tbody>\n",
              "</table>\n",
              "</div>"
            ],
            "text/plain": [
              "               player_age  winner\n",
              "currentTeamId                    \n",
              "1609            28.131173      19\n",
              "1610            27.948783      21\n",
              "1611            27.776181      25\n",
              "1612            27.469919      21\n",
              "1613            26.863089      12"
            ]
          },
          "metadata": {
            "tags": []
          },
          "execution_count": 111
        }
      ]
    },
    {
      "cell_type": "code",
      "metadata": {
        "id": "ka5TZ8-LJ2ET",
        "colab": {
          "base_uri": "https://localhost:8080/",
          "height": 384
        },
        "outputId": "401a1875-8152-4532-f1df-7b28c973d4b7"
      },
      "source": [
        "sns.lmplot('player_age', 'winner', data=club_wins_merged,fit_reg=True);\n",
        "plt.title('Barclays Premier League Teams (2017/2018 Season)');\n",
        "plt.xlabel('Average Player Age');\n",
        "plt.ylabel('Number of Wins');"
      ],
      "execution_count": null,
      "outputs": [
        {
          "output_type": "display_data",
          "data": {
            "image/png": "[encoded data removed]",
            "text/plain": [
              "<Figure size 360x360 with 1 Axes>"
            ]
          },
          "metadata": {
            "tags": []
          }
        }
      ]
    },
    {
      "cell_type": "code",
      "metadata": {
        "id": "K1EjqVV_H_MY"
      },
      "source": [
        "#I got total points data per team for the 2017/2018 season on the official Barclay's Premier league website: https://www.premierleague.com/tables?co=1&se=79&ha=-1\n",
        "#Swansea city data not included in dataset \n",
        "points_data = {'team_id': [\t1613, 1673, 1659, 1651, 1646, 1631, 1633, 1639, 1644, 1623, 1627, 1625, 1624, 1628, 1619, 1612, 1610, 1611, 1609], 'total_points': [44, 37, 44, 40, 54, 47, 42, 33, 41, 49, 31, 100, 77, 44, 36, 75, 70, 81, 63]}\n",
        "total_points_per_team = pd.DataFrame.from_dict(points_data, orient='columns')"
      ],
      "execution_count": null,
      "outputs": []
    },
    {
      "cell_type": "code",
      "metadata": {
        "id": "n5KVYwG5ILXl"
      },
      "source": [
        "teams_total_points_merged = pd.merge(club_team_age_mean, total_points_per_team , left_on='currentTeamId', right_on='team_id', how='inner')"
      ],
      "execution_count": null,
      "outputs": []
    },
    {
      "cell_type": "code",
      "metadata": {
        "id": "1VjFNjK7JBae",
        "colab": {
          "base_uri": "https://localhost:8080/",
          "height": 384
        },
        "outputId": "9b2c9131-a20f-4479-c684-aac6b1b980c8"
      },
      "source": [
        "sns.lmplot('player_age', 'total_points', data=teams_total_points_merged,fit_reg=True);\n",
        "plt.title('Premier League Teams (2017/2018 Season)');\n",
        "plt.xlabel('Average Player Age');\n",
        "plt.ylabel('Total Points');"
      ],
      "execution_count": null,
      "outputs": [
        {
          "output_type": "display_data",
          "data": {
            "image/png": "[encoded data removed]",
            "text/plain": [
              "<Figure size 360x360 with 1 Axes>"
            ]
          },
          "metadata": {
            "tags": []
          }
        }
      ]
    }
  ]
}